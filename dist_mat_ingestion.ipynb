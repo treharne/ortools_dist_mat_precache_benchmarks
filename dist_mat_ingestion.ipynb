{
 "cells": [
  {
   "cell_type": "markdown",
   "id": "7a91fcaa",
   "metadata": {},
   "source": [
    "# Benchmark of Python OR-Tools Distance Matrix ingestion approaches\n",
    "\n",
    "\n",
    "`RegisterTransitCallback` takes a long time to ingest large Distance Matrixes (1000+ nodes) in Python OR-Tools. Let's see if we can do better.\n",
    "\n",
    "### Context\n",
    "- [VRP Example on the OR-Tools Website](https://developers.google.com/optimization/routing/vrp#entire_program1)\n",
    "- Using `model_params.max_callback_cache_size` (Thank you James Marca for showing me this)\n",
    "- Python OR-Tools\n"
   ]
  },
  {
   "cell_type": "code",
   "execution_count": 1,
   "id": "8a050ac6",
   "metadata": {},
   "outputs": [
    {
     "name": "stdout",
     "output_type": "stream",
     "text": [
      "Python3.10.6\n",
      "ortools=9.4.1874\n"
     ]
    }
   ],
   "source": [
    "import platform, ortools\n",
    "print(f'Python{platform.python_version()}')\n",
    "print(f'ortools={ortools.__version__}')"
   ]
  },
  {
   "cell_type": "markdown",
   "id": "3e61e736",
   "metadata": {},
   "source": [
    "\n",
    "### The example from the docs\n",
    "\n",
    "```python\n",
    "# Create and register a transit callback.\n",
    "def distance_callback(from_index, to_index):\n",
    "    \"\"\"Returns the distance between the two nodes.\"\"\"\n",
    "    # Convert from routing variable Index to distance matrix NodeIndex.\n",
    "    from_node = manager.IndexToNode(from_index)\n",
    "    to_node = manager.IndexToNode(to_index)\n",
    "    return data['distance_matrix'][from_node][to_node]\n",
    "\n",
    "transit_callback_index = routing.RegisterTransitCallback(distance_callback)\n",
    "```"
   ]
  },
  {
   "cell_type": "markdown",
   "id": "f55b6fb6",
   "metadata": {},
   "source": [
    "This works fine for small problems, but takes 5+ seconds for a 3400x3400 distance matrix.\n",
    "\n",
    "Key things to understand are:\n",
    "\n",
    "- `IndexToNode` is a C++ function called from Python. \n",
    "- `distance_callback` is a Python function called from C++. \n",
    "- There's probably an overhead associated with each switch between C++ and Python.\n",
    "- `distance_callback` is called n^2 times (I imagine) to precache the distance matrix. In this example, `IndexToNode` is therefore called 2n^2 times. \n",
    "- One call to our `distance_callback` example above switches between C++ and Python probably 6 times (3 roundtrips).\n",
    "\n",
    "Therefore: \n",
    "1. You probably want to do as little work as possible inside `distance_callback`\n",
    "2. You especially don't want to call `IndexToNode` inside `distance_callback`\n",
    "\n",
    "### What should we do instead?\n",
    "\n",
    "Let's test some approaches. \n",
    "\n",
    "We'll need to time how long everything takes"
   ]
  },
  {
   "cell_type": "code",
   "execution_count": 2,
   "id": "5ea20c97",
   "metadata": {},
   "outputs": [],
   "source": [
    "import time\n",
    "from contextlib import contextmanager\n",
    "\n",
    "@contextmanager\n",
    "def timer(description):\n",
    "    start = time.time()\n",
    "    yield\n",
    "    duration = time.time() - start\n",
    "    print(f'{description}: {duration:.2f}s')"
   ]
  },
  {
   "cell_type": "markdown",
   "id": "3e049bcb",
   "metadata": {},
   "source": [
    "And we want to start with a fresh `RoutingModel` for each benchmark run."
   ]
  },
  {
   "cell_type": "code",
   "execution_count": 3,
   "id": "385508a0",
   "metadata": {},
   "outputs": [],
   "source": [
    "from ortools_website_vrp_example import create_data_model\n",
    "from ortools.constraint_solver import pywrapcp\n",
    "\n",
    "data = create_data_model()\n",
    "\n",
    "dist_mat = [row * 200 for row in data['distance_matrix']] * 200\n",
    "assert len(dist_mat) == len(dist_mat[0]) == 3400\n",
    "\n",
    "def setup():\n",
    "    manager = pywrapcp.RoutingIndexManager(\n",
    "        len(dist_mat),\n",
    "        data['num_vehicles'], \n",
    "        data['depot'],\n",
    "    )\n",
    "\n",
    "    model_params = pywrapcp.DefaultRoutingModelParameters()\n",
    "    model_params.max_callback_cache_size = 23_215_298\n",
    "    routing = pywrapcp.RoutingModel(manager, model_params)\n",
    "    return manager, routing\n"
   ]
  },
  {
   "cell_type": "markdown",
   "id": "77cb2920",
   "metadata": {},
   "source": [
    "3400x3400 is a good size distance matrix to test performance on.\n",
    "\n",
    "Let's try the example from the website"
   ]
  },
  {
   "cell_type": "code",
   "execution_count": 4,
   "id": "9a8368b6",
   "metadata": {},
   "outputs": [
    {
     "name": "stdout",
     "output_type": "stream",
     "text": [
      "Website Example Register Transits Time: 5.54s\n",
      "Website Example Total Time: 5.54s\n"
     ]
    }
   ],
   "source": [
    "manager, routing = setup()\n",
    "example = 'Website Example'\n",
    "\n",
    "with timer(f'{example} Total Time'):\n",
    "\n",
    "    def distance_callback(from_index, to_index):\n",
    "        from_node = manager.IndexToNode(from_index)\n",
    "        to_node = manager.IndexToNode(to_index)\n",
    "        return dist_mat[from_node][to_node]\n",
    "\n",
    "    with timer(f'{example} Register Transits Time'):\n",
    "        transit_callback_index = routing.RegisterTransitCallback(distance_callback)"
   ]
  },
  {
   "cell_type": "markdown",
   "id": "77c29a1a",
   "metadata": {},
   "source": [
    "Pretty slow.\n",
    "\n",
    "What if we do the IndexToNode lookup in advance, and store it in a dictionary?\n",
    "\n"
   ]
  },
  {
   "cell_type": "code",
   "execution_count": 5,
   "id": "9b676c83",
   "metadata": {},
   "outputs": [
    {
     "name": "stdout",
     "output_type": "stream",
     "text": [
      "Precalculate IndexToNode lookup Register Transits Time: 1.77s\n",
      "Precalculate IndexToNode lookup Total Time: 1.77s\n"
     ]
    }
   ],
   "source": [
    "manager, routing = setup()\n",
    "example = 'Precalculate IndexToNode lookup'\n",
    "\n",
    "with timer(f'{example} Total Time'):\n",
    "    n_indices = manager.GetNumberOfIndices()\n",
    "    lookup = {\n",
    "        index: manager.IndexToNode(index)\n",
    "        for index in range(n_indices)\n",
    "    }\n",
    "    \n",
    "    def distance_callback(from_index, to_index):\n",
    "        from_node = lookup[from_index]\n",
    "        to_node = lookup[to_index]\n",
    "        return dist_mat[from_node][to_node]\n",
    "\n",
    "    with timer(f'{example} Register Transits Time'):\n",
    "        transit_callback_index = routing.RegisterTransitCallback(distance_callback)"
   ]
  },
  {
   "cell_type": "markdown",
   "id": "ccaa2053",
   "metadata": {},
   "source": [
    "3x faster already! Nice!!\n",
    "\n",
    "But could we get rid of the `lookup[from_index]` and `lookup[to_index]`... ?\n",
    "\n",
    "**Yes!**  \n",
    "We could precalculate another representation of the distance matrix **knowing** that it will be indexed using `matrix[from_index][to_index]` not `matrix[from_node][to_node]`."
   ]
  },
  {
   "cell_type": "code",
   "execution_count": 6,
   "id": "f5dbfbf6",
   "metadata": {},
   "outputs": [
    {
     "name": "stdout",
     "output_type": "stream",
     "text": [
      "Precalculate Index-Based Distance Matrix Register Transits Time: 1.06s\n",
      "Precalculate Index-Based Distance Matrix Total Time: 2.15s\n"
     ]
    }
   ],
   "source": [
    "manager, routing = setup()\n",
    "example = 'Precalculate Index-Based Distance Matrix'\n",
    "\n",
    "with timer(f'{example} Total Time'):\n",
    "\n",
    "    def create_idx_based_matrix(manager, dist_mat):\n",
    "        n_indices = manager.GetNumberOfIndices()\n",
    "        lookup = {\n",
    "            index: manager.IndexToNode(index)\n",
    "            for index in range(n_indices)\n",
    "        }\n",
    "        return [[\n",
    "                dist_mat[lookup[from_index]][lookup[to_index]]\n",
    "                for to_index in range(n_indices)\n",
    "            ] for from_index in range(n_indices)\n",
    "        ]\n",
    "\n",
    "    idx_based_dist_mat = create_idx_based_matrix(manager, dist_mat)\n",
    "\n",
    "    def distance_callback(from_index, to_index):\n",
    "        # no need to convert indexes to nodes \n",
    "        # *in* the callback anymore\n",
    "        return idx_based_dist_mat[from_index][to_index]\n",
    "\n",
    "    with timer(f'{example} Register Transits Time'):\n",
    "        transit_callback_index = routing.RegisterTransitCallback(distance_callback)"
   ]
  },
  {
   "cell_type": "markdown",
   "id": "b6a07984",
   "metadata": {},
   "source": [
    "Hmmmmm... We've reduced the time that `RegisterTransitCallback` takes, but increased the total time because we have to perform a lot of operations to make the Index-Based Distance Matrix in the first place.\n",
    "\n",
    "Perhaps we can precalculate it more efficiently:"
   ]
  },
  {
   "cell_type": "code",
   "execution_count": 7,
   "id": "0b920052",
   "metadata": {},
   "outputs": [
    {
     "name": "stdout",
     "output_type": "stream",
     "text": [
      "Better Precalculate Index-Based Distance Matrix Register Transits Time: 1.18s\n",
      "Better Precalculate Index-Based Distance Matrix Total Time: 1.69s\n"
     ]
    }
   ],
   "source": [
    "manager, routing = setup()\n",
    "example = 'Better Precalculate Index-Based Distance Matrix'\n",
    "\n",
    "with timer(f'{example} Total Time'):\n",
    "\n",
    "    def create_idx_based_matrix(manager, dist_mat):\n",
    "        n_indices = manager.GetNumberOfIndices()\n",
    "        \n",
    "        # Actually the lookup doesn't need to be a dict.\n",
    "        # The keys were all just consecutive integers starting at 0...\n",
    "        # And that's exactly how you index a tuple or list anyway.\n",
    "        lookup = tuple(manager.IndexToNode(index) for index in range(n_indices))\n",
    "\n",
    "        # ALSO, in this list comp, we're basically just iterating through\n",
    "        # `lookup` item by item. Python has a better way to do that, \n",
    "        # and it's probably faster...\n",
    "        return [[\n",
    "                dist_mat[from_node][to_node]\n",
    "                for to_node in lookup\n",
    "            ] for from_node in lookup\n",
    "        ]\n",
    "\n",
    "    idx_based_dist_mat = create_idx_based_matrix(manager, dist_mat)\n",
    "\n",
    "    def distance_callback(from_index, to_index):\n",
    "        return idx_based_dist_mat[from_index][to_index]\n",
    "\n",
    "    with timer(f'{example} Register Transits Time'):\n",
    "        transit_callback_index = routing.RegisterTransitCallback(distance_callback)"
   ]
  },
  {
   "cell_type": "markdown",
   "id": "33ee5859",
   "metadata": {},
   "source": [
    "The total time is only slightly faster than the \"Precalculate IndexToNode lookup\" example. BUT, the time to register the callback is 60% faster.\n",
    "\n",
    "So you don't get much benefit if you're only registering one callback. BUT, a lot of us:\n",
    "- Reuse the same matrix to make callbacks for each Vehicle, or\n",
    "- Reuse the same matrix for `SetArcCostEvaluatorOfVehicle`\n",
    "\n",
    "so by pulling out this cost up front, we will reduce the total time before OR-Tools starts solving. Nice!\n",
    "\n",
    "### Oh. And one more thing...\n",
    "\n",
    "`RegisterTransitCallback` does this:\n",
    "```c++\n",
    "const int size = Size() + vehicles(); \n",
    "std::vector<int64> cache(size * size, 0); \n",
    "for (int i = 0; i < size; ++i) { \n",
    "    for (int j = 0; j < size; ++j) { \n",
    "    cache[i * size + j] = callback(i, j); \n",
    "    } \n",
    "} \n",
    "```\n",
    "\n",
    "Wouldn't it be better if we could somehow skip the part where it loops through all those cross language callbacks?\n",
    "\n",
    "### `RegisterTransitMatrix`\n",
    "**Full credit to James Marca for telling me about [this undocumented gem](https://github.com/google/or-tools/blob/82750ac12f1ee5354e1c7869894d9af3508778f2/ortools/constraint_solver/routing.cc#L1276)**\n",
    "\n",
    "\n",
    "Basically, if you have a pre-computed matrix, just give it to `RegisterTransitMatrix` (or equivalent `RegisterUnaryTransitVector` for unary callbacks), and it avoids all switching back and forth between Python and C++.\n",
    "\n",
    "You don't even need to make it an index-base distance matrix.."
   ]
  },
  {
   "cell_type": "code",
   "execution_count": 8,
   "id": "9a6015c0",
   "metadata": {},
   "outputs": [
    {
     "name": "stdout",
     "output_type": "stream",
     "text": [
      "RegisterTransitMatrix Register Transits Time: 0.16s\n",
      "RegisterTransitMatrix Total Time: 0.16s\n"
     ]
    }
   ],
   "source": [
    "manager, routing = setup()\n",
    "example = 'RegisterTransitMatrix'\n",
    "\n",
    "with timer(f'{example} Total Time'):\n",
    "    with timer(f'{example} Register Transits Time'):\n",
    "        transit_callback_index = routing.RegisterTransitMatrix(dist_mat)"
   ]
  },
  {
   "cell_type": "markdown",
   "id": "9cc04a53",
   "metadata": {},
   "source": [
    "## So there's a pretty clear winner: `RegisterTransitMatrix`\n",
    "As you can see:\n",
    "- It's' **20x faster than the example on the OR-Tools website**\n",
    "- It's 6x faster than giving the even-more-optimised index-based distance matrix to `RegisterTransitCallback`\n",
    "- It is substantially less code."
   ]
  },
  {
   "cell_type": "markdown",
   "id": "9238d269",
   "metadata": {},
   "source": [
    "### How does it work?\n",
    "Looking at [`ortools/constraint_solver/routing.cc`](https://github.com/google/or-tools/blob/82750ac12f1ee5354e1c7869894d9af3508778f2/ortools/constraint_solver/routing.cc#L1276) I saw that `RegisterTransitMatrix` calls `RegisterTransitCallback` anyway!!! \n",
    "\n",
    "So how could it possibly be faster?\n",
    "- It converts your matrix into a c++ matrix `std::vector<std::vector<int64_t>`\n",
    "- It still has to call IndexToNode n^2 times, BUT now it's doing it in C++ on a C++ matrix.\n",
    "- Your computer can probably do this calculation really fast since it doesn't have to switching between languages 6 times in each callback."
   ]
  },
  {
   "cell_type": "markdown",
   "id": "37165201",
   "metadata": {},
   "source": [
    "## What's the impact in the real world?\n",
    "In our product, we have:\n",
    "- a Transit Time callback for each vehicle\n",
    "- a Total Time callback for each vehicle\n",
    "- two other callbacks which we use for very specific business constraints.\n",
    "\n",
    "I tested using an example with 1000 Jobs and 30 Vehicles.\n",
    "\n",
    "|                                                 | Time to Register all callbacks   |  Code in our `callbacks.py`|\n",
    "| -------------                                   | -------------           |  ----------   |\n",
    "| Before this investication                       | 80 seconds              |  145 lines    |\n",
    "| With `Precalculate Index-Based Distance Matrix` | 28 seconds              | 180 lines |\n",
    "| With `RegisterTransitMatrix`                    | 5 seconds               |    100 lines  |\n",
    "\n",
    "\n",
    "Many of our customers lose money for every minute they delay the drivers' departure. This is incredibly valuable."
   ]
  },
  {
   "cell_type": "markdown",
   "id": "e7794a35",
   "metadata": {},
   "source": [
    "## Numpy\n",
    "Our software passes the distance matrix around as a `np.ndarray` most of the time, since it's better for slicing, broadcast multiplication, etc. \n",
    "\n",
    "Before learning about `RegisterTransitMatrix`, I benchmarked `RegisterTransitCallback` with the Distance Matrix as a numpy array.\n",
    "\n",
    "### Should I give a `np.ndarray` to `RegisterTransitMatrix`?\n",
    "You can't.\n",
    "```python\n",
    "routing.RegisterTransitMatrix(np.array(dist_mat))\n",
    "# TypeError: Expecting a list of tuples\n",
    "```"
   ]
  },
  {
   "cell_type": "markdown",
   "id": "0ce4a1eb",
   "metadata": {},
   "source": [
    "\n",
    "### Should I give a `np.ndarray` to `RegisterTransitCallback`?\n",
    "Let's check."
   ]
  },
  {
   "cell_type": "code",
   "execution_count": 9,
   "id": "cc34d804",
   "metadata": {},
   "outputs": [
    {
     "name": "stdout",
     "output_type": "stream",
     "text": [
      "Precalculate Index-Based Distance Matrix -> Numpy Register Transits Time: 2.35s\n",
      "Precalculate Index-Based Distance Matrix -> Numpy Total Time: 3.55s\n"
     ]
    }
   ],
   "source": [
    "manager, routing = setup()\n",
    "example = 'Precalculate Index-Based Distance Matrix -> Numpy'\n",
    "\n",
    "\n",
    "import numpy as np\n",
    "\n",
    "with timer(f'{example} Total Time'):\n",
    "\n",
    "    # the same `create_idx_based_matrix` function as before, \n",
    "    # but we make it into a numpy array\n",
    "    idx_based_dist_mat = np.array(\n",
    "        create_idx_based_matrix(manager, dist_mat))\n",
    "\n",
    "    def distance_callback(from_index, to_index):\n",
    "        return idx_based_dist_mat[from_index, to_index]\n",
    "\n",
    "    with timer(f'{example} Register Transits Time'):\n",
    "        transit_callback_index = routing.RegisterTransitCallback(distance_callback)"
   ]
  },
  {
   "cell_type": "markdown",
   "id": "17e53e51",
   "metadata": {},
   "source": [
    "To my surprise, the **RegisterTransitCallback is 2x slower with a numpy array** than with a Python list of lists.\n",
    "\n",
    "For the record:\n",
    "- I tried `np.array(..., order='C')` and `np.array(..., order='F')`. F is slower than C. C is as fast as the example above without `order=`, so I assume it was already C.\n",
    "- I tried `idx_based_dist_mat[from_index][to_index]` as well. `idx_based_dist_mat[from_index, to_index]` is faster.\n",
    "- There are faster ways to convert your `dist_mat` into a numpy `idx_based_dist_mat` (change the listcomp to a generator compt then use `np.fromiter`), but the bottleneck here is Registering the callback... so I would say don't bother.\n",
    "\n",
    "I don't know Numpy well - if there's some trick I'm missing, please let me know!\n",
    "\n",
    "### What should I do if my Distance Matrix is a `np.ndarray` to start?\n",
    "Use `np.ndarray().tolist()` and `RegisterTransitMatrix`"
   ]
  },
  {
   "cell_type": "code",
   "execution_count": 10,
   "id": "13edecee",
   "metadata": {},
   "outputs": [
    {
     "name": "stdout",
     "output_type": "stream",
     "text": [
      "Numpy -> RegisterTransitMatrix Register Transits Time: 0.26s\n",
      "Numpy -> RegisterTransitMatrix Total Time: 0.54s\n"
     ]
    }
   ],
   "source": [
    "manager, routing = setup()\n",
    "example = 'Numpy -> RegisterTransitMatrix'\n",
    "\n",
    "dist_mat_np = np.array(dist_mat)\n",
    "\n",
    "with timer(f'{example} Total Time'):\n",
    "    list_of_lists = dist_mat_np.tolist()\n",
    "    with timer(f'{example} Register Transits Time'):\n",
    "        transit_callback_index = routing.RegisterTransitMatrix(list_of_lists)"
   ]
  },
  {
   "cell_type": "markdown",
   "id": "847e6ca1",
   "metadata": {},
   "source": [
    "## Other Gotchas\n",
    "\n",
    "### Doing calculation in the callback\n",
    "Any calculation you do inside the callback is slowing you down.\n",
    "For example, in our codebase we had something like\n",
    "```python\n",
    "def callback(from_idx, to_idx):\n",
    "    return dist_mat[from_idx][to_idx] / driver.speed_multiplier\n",
    "```\n",
    "\n",
    "This slows down ingestion time. Calculate the matrix before the callback, and give it to `RegisterTransitMatrix`\n",
    "\n",
    "### What type to give to the callback\n",
    "In the current version of OR-Tools, it gives an error if you give it anything other than Integers in your Distance Matrix.\n",
    "\n",
    "We're using an older version of OR-Tools, and **I think** we were giving it a matrix of floats. In one of my early tests (which lead to deciding to do this benchmark), I realised that giving it integers instead of floats lead to a massive speedup."
   ]
  },
  {
   "cell_type": "markdown",
   "id": "346288e8",
   "metadata": {},
   "source": [
    "# Results\n",
    "\n",
    "**Register Duration**: The time it takes to call `RegisterTransitCallback` or `RegisterTransitMatrix`  \n",
    "**Total Duration**: The time it takes to reformat the Distance Matrix for that approach, plus the **Register Duration**\n",
    "\n",
    "| Approach                                          | Register Duration | Total Duration |\n",
    "| -------------                                     | -------------      |  ----------   |\n",
    "| Website Example                                   | 5.6s | 5.6s |\n",
    "| Precalculate IndexToNode lookup                   | 1.9s | 1.9s |\n",
    "| Precalculate Index-Based Distance Matrix          | 1.1s | 2.2s |\n",
    "| Better Precalculate Index-Based Distance Matrix   | 1.1s | 1.6s |\n",
    "| RegisterTransitMatrix                             | 0.2s | 0.2s |\n",
    "| Precalculate Index-Based Distance Matrix -> Numpy | 2.2s | 3.2s |\n",
    "| Numpy -> RegisterTransitMatrix                    | 0.2s | 0.5s |\n",
    "\n"
   ]
  },
  {
   "cell_type": "markdown",
   "id": "5d4433b3",
   "metadata": {},
   "source": [
    "## Conclusion\n",
    "- Always use `RegisterTransitMatrix` with `max_callback_cache_size` if you use Python OR-Tools\n",
    "- I'm surprised the documentation doesn't recommend this anyway."
   ]
  }
 ],
 "metadata": {
  "kernelspec": {
   "display_name": "Python 3.10.6 ('.venv': venv)",
   "language": "python",
   "name": "python3"
  },
  "language_info": {
   "codemirror_mode": {
    "name": "ipython",
    "version": 3
   },
   "file_extension": ".py",
   "mimetype": "text/x-python",
   "name": "python",
   "nbconvert_exporter": "python",
   "pygments_lexer": "ipython3",
   "version": "3.10.6"
  },
  "vscode": {
   "interpreter": {
    "hash": "f9eed4b70dbc3bbe9229ae724cf703bb7d148fb183c7abbbccc13f86a8e9b007"
   }
  }
 },
 "nbformat": 4,
 "nbformat_minor": 5
}
